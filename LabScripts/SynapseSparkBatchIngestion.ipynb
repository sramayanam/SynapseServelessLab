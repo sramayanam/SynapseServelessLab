{
    "metadata": {
        "kernelspec": {
            "name": "SQL",
            "display_name": "SQL",
            "language": "sql"
        },
        "language_info": {
            "name": "sql",
            "version": ""
        },
        "save_output": true
    },
    "nbformat_minor": 2,
    "nbformat": 4,
    "cells": [
        {
            "cell_type": "markdown",
            "source": [
                "### Let's load the data into Spark DataFrames from the Storage Location."
            ],
            "metadata": {
                "azdata_cell_guid": "e563184d-3ece-4830-8df6-3944f8d6942e"
            }
        },
        {
            "cell_type": "code",
            "source": [
                "dfStoreDemoGraphics = (spark\n",
                "                .read\n",
                "                .csv(\"/RetailData/StoreDemoGraphics.csv\", header=True, inferSchema='true')\n",
                "              )\n",
                "\n",
                "dfRetailSales = (spark\n",
                "                .read\n",
                "                .csv(\"/RetailData/RetailSales.csv\", header=True, inferSchema='true')\n",
                "              )\n",
                "\n",
                "dfProduct = (spark\n",
                "                .read\n",
                "                .csv(\"/RetailData/Products.csv\", header=True, inferSchema='true')\n",
                "              )"
            ],
            "metadata": {
                "azdata_cell_guid": "8d76048e-15fb-4ef0-88b3-ecd04b6cd47a",
                "language": "sql"
            },
            "outputs": [],
            "execution_count": 9
        },
        {
            "cell_type": "markdown",
            "source": [
                "### Let's Create a spark database"
            ],
            "metadata": {
                "nteract": {
                    "transient": {
                        "deleting": false
                    }
                },
                "azdata_cell_guid": "ad6e2e6f-1e1d-4229-9c8d-46c3b4352702"
            }
        },
        {
            "cell_type": "code",
            "source": [
                "spark.sql(\"CREATE DATABASE IF NOT EXISTS sreelakedb\")"
            ],
            "metadata": {
                "jupyter": {
                    "source_hidden": false,
                    "outputs_hidden": false
                },
                "nteract": {
                    "transient": {
                        "deleting": false
                    }
                },
                "azdata_cell_guid": "43178c37-16d2-403f-8acc-72a14d1f5fc8",
                "language": "sql"
            },
            "outputs": [],
            "execution_count": null
        },
        {
            "cell_type": "markdown",
            "source": [
                "### Load the data from Spark data Frame to Lake Database Tables"
            ],
            "metadata": {
                "nteract": {
                    "transient": {
                        "deleting": false
                    }
                },
                "azdata_cell_guid": "88912918-e3f4-4f14-aa52-13f5d61e50d1"
            }
        },
        {
            "cell_type": "code",
            "source": [
                "dfRetailSales.write.mode(\"overwrite\").saveAsTable(\"sreelakedb.RetailSales\")"
            ],
            "metadata": {
                "jupyter": {
                    "source_hidden": false,
                    "outputs_hidden": false
                },
                "nteract": {
                    "transient": {
                        "deleting": false
                    }
                },
                "azdata_cell_guid": "b3b34bba-522b-4626-9723-9d61a27679b3",
                "language": "sql"
            },
            "outputs": [],
            "execution_count": 10
        },
        {
            "cell_type": "code",
            "source": [
                "dfStoreDemoGraphics.write.mode(\"overwrite\").saveAsTable(\"sreelakedb.StoreDemoGraphics\")"
            ],
            "metadata": {
                "jupyter": {
                    "source_hidden": false,
                    "outputs_hidden": false
                },
                "nteract": {
                    "transient": {
                        "deleting": false
                    }
                },
                "azdata_cell_guid": "ba37946e-aaed-4ccc-b61c-8e3ceb463b6b",
                "language": "sql"
            },
            "outputs": [],
            "execution_count": 11
        },
        {
            "cell_type": "code",
            "source": [
                "dfProduct.write.mode(\"overwrite\").saveAsTable(\"sreelakedb.Products\")"
            ],
            "metadata": {
                "jupyter": {
                    "source_hidden": false,
                    "outputs_hidden": false
                },
                "nteract": {
                    "transient": {
                        "deleting": false
                    }
                },
                "azdata_cell_guid": "0d7b4330-d5f7-4d60-abaf-8125e7b2d16b",
                "language": "sql"
            },
            "outputs": [],
            "execution_count": 12
        },
        {
            "cell_type": "markdown",
            "source": [
                "### First create a Cosmos DB with RetailSalesDemoDB and create three collections called 1. Retail Sales 2. StoreDemographics 3. Products\n",
                "### Write the Spark Dataframe to the Azure Cosmos DB Collections\n",
                "\n",
                "#### The \"cosmos.oltp\" is the Spark format that enables connection to the Cosmos DB Transactional store.\n",
                "\n",
                "#### Also enable Synapse link on these three containers to read data from the analytical containers. The linked service shows three analytic containers ready to be queried as part of the lab"
            ],
            "metadata": {
                "azdata_cell_guid": "e1b7ddef-5e21-499e-91c6-0f499c3d6171"
            }
        },
        {
            "cell_type": "code",
            "source": [
                "dfRetailSales.write\\\n",
                "            .format(\"cosmos.oltp\")\\\n",
                "            .option(\"spark.synapse.linkedService\", \"RetailSalesDemoDB\")\\\n",
                "            .option(\"spark.cosmos.container\", \"RetailSales\")\\\n",
                "            .mode('append')\\\n",
                "            .save()\n",
                "\n",
                "dfStoreDemoGraphics.write\\\n",
                "            .format(\"cosmos.oltp\")\\\n",
                "            .option(\"spark.synapse.linkedService\", \"RetailSalesDemoDB\")\\\n",
                "            .option(\"spark.cosmos.container\", \"StoreDemoGraphics\")\\\n",
                "            .mode('append')\\\n",
                "            .save()\n",
                "\n",
                "\n",
                "dfProduct.write\\\n",
                "            .format(\"cosmos.oltp\")\\\n",
                "            .option(\"spark.synapse.linkedService\", \"RetailSalesDemoDB\")\\\n",
                "            .option(\"spark.cosmos.container\", \"Products\")\\\n",
                "            .mode('append')\\\n",
                "            .save()     \n",
                ""
            ],
            "metadata": {
                "azdata_cell_guid": "82ade5c2-9fb7-4977-8eac-4ce46e8a49b4",
                "language": "sql"
            },
            "outputs": [],
            "execution_count": 8
        }
    ]
}