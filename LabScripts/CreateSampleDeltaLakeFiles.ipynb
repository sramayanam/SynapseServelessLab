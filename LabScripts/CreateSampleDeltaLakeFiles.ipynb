{
    "metadata": {
        "kernelspec": {
            "name": "SQL",
            "display_name": "SQL",
            "language": "sql"
        },
        "language_info": {
            "name": "sql",
            "version": ""
        },
        "save_output": true
    },
    "nbformat_minor": 2,
    "nbformat": 4,
    "cells": [
        {
            "cell_type": "markdown",
            "source": [
                "Run this notebook before executing the Delta.SQL\n",
                "\n",
                "This notebook converts the parquet files in the folder into delta format for user to practice delta.sql"
            ],
            "metadata": {
                "azdata_cell_guid": "fff58228-b069-4f41-b4af-58e00822b52e"
            },
            "attachments": {}
        },
        {
            "cell_type": "code",
            "source": [
                "%%pyspark\n",
                "from delta.tables import DeltaTable\n",
                "deltaTable = DeltaTable.convertToDelta(spark, \"parquet.`abfss://data@srramsynstorage.dfs.core.windows.net/parquetfiles`\")"
            ],
            "metadata": {
                "microsoft": {
                    "language": "python"
                },
                "azdata_cell_guid": "28df81d8-7d21-4ae2-b70e-c37ae9e59549",
                "language": "sql"
            },
            "outputs": [],
            "execution_count": 1
        }
    ]
}